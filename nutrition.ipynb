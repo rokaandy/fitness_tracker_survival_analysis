{
 "cells": [
  {
   "cell_type": "markdown",
   "metadata": {},
   "source": [
    "# Nutrition Survival Analysis\n",
    "by: Andy Luc\n",
    "\n",
    "## Business case:\n",
    "Health and fitness has always been a topic of interest to me and I am fairly active when it comes to staying in shape. Part of that journey involves the consistency of tracking nutritional intake. One of the most popular apps today is MyFitnessPal, which tracks this on a daily basis.\n",
    "\n",
    "Based on only user inputs of daily food intake and a target goal:\n",
    "1. Can we predict when or if a user decides to churn or quit using the app?\n",
    "\n",
    "2. Is there a certain nutritional item that contributes to a user quitting the platform?\n"
   ]
  },
  {
   "cell_type": "code",
   "execution_count": 1,
   "metadata": {},
   "outputs": [],
   "source": [
    "import pandas as pd\n",
    "import numpy as np\n",
    "from datetime import date, datetime\n",
    "from lifelines import CoxPHFitter\n",
    "import pickle\n",
    "import matplotlib.pyplot as plt\n",
    "import seaborn as sns\n",
    "from functions import (json, pandas, daily_totals, daily_goals, merge, \n",
    "                       parsed_dict, prev_date_col, find_date)\n",
    "plt.style.use('seaborn')\n",
    "%matplotlib inline\n",
    "%load_ext autoreload\n",
    "%autoreload 2"
   ]
  },
  {
   "cell_type": "markdown",
   "metadata": {},
   "source": [
    "### Viewing the raw data file:\n",
    "\n",
    "Dataset Dates: Sept 14, 2014 - Apr 9, 2015"
   ]
  },
  {
   "cell_type": "code",
   "execution_count": 2,
   "metadata": {},
   "outputs": [],
   "source": [
    "data = pd.read_csv('data/mfp-diaries.tsv',\n",
    "                  sep='\\t',\n",
    "                  header=None,\n",
    "                  names=['userid','diary_date','food_entries','daily_goal'])\n",
    "data.head()"
   ]
  },
  {
   "cell_type": "code",
   "execution_count": 4,
   "metadata": {
    "scrolled": true
   },
   "outputs": [
    {
     "data": {
      "text/plain": [
       "9896"
      ]
     },
     "execution_count": 4,
     "metadata": {},
     "output_type": "execute_result"
    }
   ],
   "source": [
    "# Number of unique users\n",
    "len(data['userid'].unique())"
   ]
  },
  {
   "cell_type": "markdown",
   "metadata": {},
   "source": [
    "## Analyzing and Parsing Data\n",
    "Since we are concerned with when a user decides to stop using the MyFitnessPal program based on their input attributes, I am focusing on the *diary_date* and *daily_goal* columns. First, we need to parse the nested dictionary within the daily_goal column."
   ]
  },
  {
   "cell_type": "code",
   "execution_count": 5,
   "metadata": {},
   "outputs": [],
   "source": [
    "# Extracting only the dialy_goals column\n",
    "d_goal = data.drop(['userid', 'diary_date','food_entries'], axis=1)"
   ]
  },
  {
   "cell_type": "code",
   "execution_count": 6,
   "metadata": {},
   "outputs": [
    {
     "data": {
      "text/plain": [
       "{'total': [{'name': 'Calories', 'value': 2924},\n",
       "  {'name': 'Carbs', 'value': 340},\n",
       "  {'name': 'Fat', 'value': 114},\n",
       "  {'name': 'Protein', 'value': 186},\n",
       "  {'name': 'Sodium', 'value': 3658},\n",
       "  {'name': 'Sugar', 'value': 109}],\n",
       " 'goal': [{'name': 'Calories', 'value': 3173},\n",
       "  {'name': 'Carbs', 'value': 396},\n",
       "  {'name': 'Fat', 'value': 105},\n",
       "  {'name': 'Protein', 'value': 160},\n",
       "  {'name': 'Sodium', 'value': 2300},\n",
       "  {'name': 'Sugar', 'value': 119}]}"
      ]
     },
     "execution_count": 6,
     "metadata": {},
     "output_type": "execute_result"
    }
   ],
   "source": [
    "# Loading into json format\n",
    "f = json.loads(d_goal['daily_goal'][0])\n",
    "f"
   ]
  },
  {
   "cell_type": "markdown",
   "metadata": {},
   "source": [
    "### Create 1 column per dictionary in both total key and goal key\n",
    "\n",
    "- total\n",
    "    + total_calories\n",
    "    + total_carbs\n",
    "    + total_fat\n",
    "    + total_fiber\n",
    "    + total_protein\n",
    "    + total_sodium\n",
    "    + total_sugar\n",
    "- goal\n",
    "    + goal_calories\n",
    "    + goal_carbs\n",
    "    + goal_fat\n",
    "    + goal_fiber\n",
    "    + goal_protein\n",
    "    + goal_sodium\n",
    "    + goal_sugar"
   ]
  },
  {
   "cell_type": "code",
   "execution_count": 7,
   "metadata": {},
   "outputs": [],
   "source": [
    "# Creates list of keys and values from the first dictionary, and zips them together\n",
    "total_dict = daily_totals(f)\n",
    "\n",
    "# Creates list of keys and values from the second dictionary, and zips them together\n",
    "goal_dict = daily_goals(f)\n",
    "\n",
    "# Combines new keys and values for 'Total' and 'Goals' into single dictionary\n",
    "merge(total_dict, goal_dict)\n",
    "\n",
    "# Iterrates through entire parsed dataframe and appends merged rows\n",
    "full_list = parsed_dict(d_goal, f)"
   ]
  },
  {
   "cell_type": "code",
   "execution_count": 8,
   "metadata": {},
   "outputs": [
    {
     "data": {
      "text/html": [
       "<div>\n",
       "<style scoped>\n",
       "    .dataframe tbody tr th:only-of-type {\n",
       "        vertical-align: middle;\n",
       "    }\n",
       "\n",
       "    .dataframe tbody tr th {\n",
       "        vertical-align: top;\n",
       "    }\n",
       "\n",
       "    .dataframe thead th {\n",
       "        text-align: right;\n",
       "    }\n",
       "</style>\n",
       "<table border=\"1\" class=\"dataframe\">\n",
       "  <thead>\n",
       "    <tr style=\"text-align: right;\">\n",
       "      <th></th>\n",
       "      <th>goal_calcium</th>\n",
       "      <th>goal_calories</th>\n",
       "      <th>goal_carbs</th>\n",
       "      <th>goal_chol</th>\n",
       "      <th>goal_fat</th>\n",
       "      <th>goal_fiber</th>\n",
       "      <th>goal_iron</th>\n",
       "      <th>goal_mon fat</th>\n",
       "      <th>goal_ply fat</th>\n",
       "      <th>goal_potass.</th>\n",
       "      <th>...</th>\n",
       "      <th>total_mon fat</th>\n",
       "      <th>total_ply fat</th>\n",
       "      <th>total_potass.</th>\n",
       "      <th>total_protein</th>\n",
       "      <th>total_sat fat</th>\n",
       "      <th>total_sodium</th>\n",
       "      <th>total_sugar</th>\n",
       "      <th>total_trn fat</th>\n",
       "      <th>total_vit a</th>\n",
       "      <th>total_vit c</th>\n",
       "    </tr>\n",
       "  </thead>\n",
       "  <tbody>\n",
       "    <tr>\n",
       "      <th>0</th>\n",
       "      <td>NaN</td>\n",
       "      <td>3173.0</td>\n",
       "      <td>396.0</td>\n",
       "      <td>NaN</td>\n",
       "      <td>105.0</td>\n",
       "      <td>NaN</td>\n",
       "      <td>NaN</td>\n",
       "      <td>NaN</td>\n",
       "      <td>NaN</td>\n",
       "      <td>NaN</td>\n",
       "      <td>...</td>\n",
       "      <td>NaN</td>\n",
       "      <td>NaN</td>\n",
       "      <td>NaN</td>\n",
       "      <td>186.0</td>\n",
       "      <td>NaN</td>\n",
       "      <td>3658.0</td>\n",
       "      <td>109.0</td>\n",
       "      <td>NaN</td>\n",
       "      <td>NaN</td>\n",
       "      <td>NaN</td>\n",
       "    </tr>\n",
       "    <tr>\n",
       "      <th>1</th>\n",
       "      <td>NaN</td>\n",
       "      <td>1572.0</td>\n",
       "      <td>196.0</td>\n",
       "      <td>NaN</td>\n",
       "      <td>52.0</td>\n",
       "      <td>NaN</td>\n",
       "      <td>NaN</td>\n",
       "      <td>NaN</td>\n",
       "      <td>NaN</td>\n",
       "      <td>NaN</td>\n",
       "      <td>...</td>\n",
       "      <td>NaN</td>\n",
       "      <td>NaN</td>\n",
       "      <td>NaN</td>\n",
       "      <td>50.0</td>\n",
       "      <td>NaN</td>\n",
       "      <td>855.0</td>\n",
       "      <td>63.0</td>\n",
       "      <td>NaN</td>\n",
       "      <td>NaN</td>\n",
       "      <td>NaN</td>\n",
       "    </tr>\n",
       "    <tr>\n",
       "      <th>2</th>\n",
       "      <td>NaN</td>\n",
       "      <td>1832.0</td>\n",
       "      <td>229.0</td>\n",
       "      <td>NaN</td>\n",
       "      <td>61.0</td>\n",
       "      <td>NaN</td>\n",
       "      <td>NaN</td>\n",
       "      <td>NaN</td>\n",
       "      <td>NaN</td>\n",
       "      <td>NaN</td>\n",
       "      <td>...</td>\n",
       "      <td>NaN</td>\n",
       "      <td>NaN</td>\n",
       "      <td>NaN</td>\n",
       "      <td>114.0</td>\n",
       "      <td>NaN</td>\n",
       "      <td>2215.0</td>\n",
       "      <td>100.0</td>\n",
       "      <td>NaN</td>\n",
       "      <td>NaN</td>\n",
       "      <td>NaN</td>\n",
       "    </tr>\n",
       "    <tr>\n",
       "      <th>3</th>\n",
       "      <td>NaN</td>\n",
       "      <td>1685.0</td>\n",
       "      <td>210.0</td>\n",
       "      <td>NaN</td>\n",
       "      <td>56.0</td>\n",
       "      <td>NaN</td>\n",
       "      <td>NaN</td>\n",
       "      <td>NaN</td>\n",
       "      <td>NaN</td>\n",
       "      <td>NaN</td>\n",
       "      <td>...</td>\n",
       "      <td>NaN</td>\n",
       "      <td>NaN</td>\n",
       "      <td>NaN</td>\n",
       "      <td>98.0</td>\n",
       "      <td>NaN</td>\n",
       "      <td>1765.0</td>\n",
       "      <td>105.0</td>\n",
       "      <td>NaN</td>\n",
       "      <td>NaN</td>\n",
       "      <td>NaN</td>\n",
       "    </tr>\n",
       "    <tr>\n",
       "      <th>4</th>\n",
       "      <td>NaN</td>\n",
       "      <td>1597.0</td>\n",
       "      <td>199.0</td>\n",
       "      <td>NaN</td>\n",
       "      <td>53.0</td>\n",
       "      <td>NaN</td>\n",
       "      <td>NaN</td>\n",
       "      <td>NaN</td>\n",
       "      <td>NaN</td>\n",
       "      <td>NaN</td>\n",
       "      <td>...</td>\n",
       "      <td>NaN</td>\n",
       "      <td>NaN</td>\n",
       "      <td>NaN</td>\n",
       "      <td>202.0</td>\n",
       "      <td>NaN</td>\n",
       "      <td>1101.0</td>\n",
       "      <td>71.0</td>\n",
       "      <td>NaN</td>\n",
       "      <td>NaN</td>\n",
       "      <td>NaN</td>\n",
       "    </tr>\n",
       "  </tbody>\n",
       "</table>\n",
       "<p>5 rows × 34 columns</p>\n",
       "</div>"
      ],
      "text/plain": [
       "   goal_calcium  goal_calories  goal_carbs  goal_chol  goal_fat  goal_fiber  \\\n",
       "0           NaN         3173.0       396.0        NaN     105.0         NaN   \n",
       "1           NaN         1572.0       196.0        NaN      52.0         NaN   \n",
       "2           NaN         1832.0       229.0        NaN      61.0         NaN   \n",
       "3           NaN         1685.0       210.0        NaN      56.0         NaN   \n",
       "4           NaN         1597.0       199.0        NaN      53.0         NaN   \n",
       "\n",
       "   goal_iron  goal_mon fat  goal_ply fat  goal_potass.     ...       \\\n",
       "0        NaN           NaN           NaN           NaN     ...        \n",
       "1        NaN           NaN           NaN           NaN     ...        \n",
       "2        NaN           NaN           NaN           NaN     ...        \n",
       "3        NaN           NaN           NaN           NaN     ...        \n",
       "4        NaN           NaN           NaN           NaN     ...        \n",
       "\n",
       "   total_mon fat  total_ply fat  total_potass.  total_protein  total_sat fat  \\\n",
       "0            NaN            NaN            NaN          186.0            NaN   \n",
       "1            NaN            NaN            NaN           50.0            NaN   \n",
       "2            NaN            NaN            NaN          114.0            NaN   \n",
       "3            NaN            NaN            NaN           98.0            NaN   \n",
       "4            NaN            NaN            NaN          202.0            NaN   \n",
       "\n",
       "   total_sodium  total_sugar  total_trn fat  total_vit a  total_vit c  \n",
       "0        3658.0        109.0            NaN          NaN          NaN  \n",
       "1         855.0         63.0            NaN          NaN          NaN  \n",
       "2        2215.0        100.0            NaN          NaN          NaN  \n",
       "3        1765.0        105.0            NaN          NaN          NaN  \n",
       "4        1101.0         71.0            NaN          NaN          NaN  \n",
       "\n",
       "[5 rows x 34 columns]"
      ]
     },
     "execution_count": 8,
     "metadata": {},
     "output_type": "execute_result"
    }
   ],
   "source": [
    "# Putting it back into a pandas dataframe\n",
    "full_df = pd.DataFrame(full_list)\n",
    "full_df.head()"
   ]
  },
  {
   "cell_type": "code",
   "execution_count": 9,
   "metadata": {},
   "outputs": [],
   "source": [
    "# Merging the original dataframe with the newly parsed daily_goal column\n",
    "conn = pd.concat([data, full_df], axis=1)"
   ]
  },
  {
   "cell_type": "code",
   "execution_count": 10,
   "metadata": {
    "scrolled": true
   },
   "outputs": [
    {
     "data": {
      "text/plain": [
       "userid                 0\n",
       "diary_date             0\n",
       "food_entries           0\n",
       "daily_goal             0\n",
       "goal_calcium      564262\n",
       "goal_calories          7\n",
       "goal_carbs         14145\n",
       "goal_chol         568935\n",
       "goal_fat           17859\n",
       "goal_fiber        344347\n",
       "goal_iron         558171\n",
       "goal_mon fat      587096\n",
       "goal_ply fat      586693\n",
       "goal_potass.      567771\n",
       "goal_protein        7321\n",
       "goal_sat fat      570611\n",
       "goal_sodium       196659\n",
       "goal_sugar        218272\n",
       "goal_trn fat      585359\n",
       "goal_vit a        586413\n",
       "goal_vit c        584701\n",
       "total_calcium     564262\n",
       "total_calories        26\n",
       "total_carbs        14146\n",
       "total_chol        568935\n",
       "total_fat          17866\n",
       "total_fiber       344349\n",
       "total_iron        558171\n",
       "total_mon fat     586759\n",
       "total_ply fat     586426\n",
       "total_potass.     567771\n",
       "total_protein       7331\n",
       "total_sat fat     570611\n",
       "total_sodium      196660\n",
       "total_sugar       218270\n",
       "total_trn fat     585359\n",
       "total_vit a       586413\n",
       "total_vit c       584701\n",
       "dtype: int64"
      ]
     },
     "execution_count": 10,
     "metadata": {},
     "output_type": "execute_result"
    }
   ],
   "source": [
    "# Looking at the number of null values for each column\n",
    "conn.isna().sum()"
   ]
  },
  {
   "cell_type": "code",
   "execution_count": 11,
   "metadata": {},
   "outputs": [],
   "source": [
    "# Dropping columns which have high null values which are not beneficial to the features being used\n",
    "clean_df = conn.drop(['food_entries','daily_goal','goal_calcium','goal_chol',\n",
    "                       'goal_iron','goal_mon fat','goal_ply fat','goal_potass.',\n",
    "                       'goal_sat fat','goal_trn fat','goal_vit a','goal_vit c',\n",
    "                       'total_calcium','total_chol','total_iron','total_mon fat',\n",
    "                       'total_ply fat','total_potass.','total_sat fat','total_trn fat',\n",
    "                       'total_vit a','total_vit c'], axis=1)"
   ]
  },
  {
   "cell_type": "code",
   "execution_count": 12,
   "metadata": {},
   "outputs": [],
   "source": [
    "# Fill the remaining null values of each nutrient with 0\n",
    "clean_df.fillna(0, inplace=True)"
   ]
  },
  {
   "cell_type": "code",
   "execution_count": 13,
   "metadata": {},
   "outputs": [],
   "source": [
    "# Changing diary_date column to a datetime type\n",
    "clean_df['diary_date'] = pd.to_datetime(clean_df['diary_date'])"
   ]
  },
  {
   "cell_type": "code",
   "execution_count": 14,
   "metadata": {
    "scrolled": true
   },
   "outputs": [
    {
     "data": {
      "text/html": [
       "<div>\n",
       "<style scoped>\n",
       "    .dataframe tbody tr th:only-of-type {\n",
       "        vertical-align: middle;\n",
       "    }\n",
       "\n",
       "    .dataframe tbody tr th {\n",
       "        vertical-align: top;\n",
       "    }\n",
       "\n",
       "    .dataframe thead th {\n",
       "        text-align: right;\n",
       "    }\n",
       "</style>\n",
       "<table border=\"1\" class=\"dataframe\">\n",
       "  <thead>\n",
       "    <tr style=\"text-align: right;\">\n",
       "      <th></th>\n",
       "      <th>userid</th>\n",
       "      <th>diary_date</th>\n",
       "      <th>goal_calories</th>\n",
       "      <th>goal_carbs</th>\n",
       "      <th>goal_fat</th>\n",
       "      <th>goal_fiber</th>\n",
       "      <th>goal_protein</th>\n",
       "      <th>goal_sodium</th>\n",
       "      <th>goal_sugar</th>\n",
       "      <th>total_calories</th>\n",
       "      <th>total_carbs</th>\n",
       "      <th>total_fat</th>\n",
       "      <th>total_fiber</th>\n",
       "      <th>total_protein</th>\n",
       "      <th>total_sodium</th>\n",
       "      <th>total_sugar</th>\n",
       "    </tr>\n",
       "  </thead>\n",
       "  <tbody>\n",
       "    <tr>\n",
       "      <th>0</th>\n",
       "      <td>1</td>\n",
       "      <td>2014-09-14</td>\n",
       "      <td>3173.0</td>\n",
       "      <td>396.0</td>\n",
       "      <td>105.0</td>\n",
       "      <td>0.0</td>\n",
       "      <td>160.0</td>\n",
       "      <td>2300.0</td>\n",
       "      <td>119.0</td>\n",
       "      <td>2924.0</td>\n",
       "      <td>340.0</td>\n",
       "      <td>114.0</td>\n",
       "      <td>0.0</td>\n",
       "      <td>186.0</td>\n",
       "      <td>3658.0</td>\n",
       "      <td>109.0</td>\n",
       "    </tr>\n",
       "    <tr>\n",
       "      <th>1</th>\n",
       "      <td>1</td>\n",
       "      <td>2014-09-15</td>\n",
       "      <td>1572.0</td>\n",
       "      <td>196.0</td>\n",
       "      <td>52.0</td>\n",
       "      <td>0.0</td>\n",
       "      <td>79.0</td>\n",
       "      <td>2300.0</td>\n",
       "      <td>59.0</td>\n",
       "      <td>2430.0</td>\n",
       "      <td>96.0</td>\n",
       "      <td>37.0</td>\n",
       "      <td>0.0</td>\n",
       "      <td>50.0</td>\n",
       "      <td>855.0</td>\n",
       "      <td>63.0</td>\n",
       "    </tr>\n",
       "    <tr>\n",
       "      <th>2</th>\n",
       "      <td>1</td>\n",
       "      <td>2014-09-16</td>\n",
       "      <td>1832.0</td>\n",
       "      <td>229.0</td>\n",
       "      <td>61.0</td>\n",
       "      <td>0.0</td>\n",
       "      <td>92.0</td>\n",
       "      <td>2300.0</td>\n",
       "      <td>69.0</td>\n",
       "      <td>1862.0</td>\n",
       "      <td>158.0</td>\n",
       "      <td>54.0</td>\n",
       "      <td>0.0</td>\n",
       "      <td>114.0</td>\n",
       "      <td>2215.0</td>\n",
       "      <td>100.0</td>\n",
       "    </tr>\n",
       "    <tr>\n",
       "      <th>3</th>\n",
       "      <td>1</td>\n",
       "      <td>2014-09-17</td>\n",
       "      <td>1685.0</td>\n",
       "      <td>210.0</td>\n",
       "      <td>56.0</td>\n",
       "      <td>0.0</td>\n",
       "      <td>85.0</td>\n",
       "      <td>2300.0</td>\n",
       "      <td>63.0</td>\n",
       "      <td>2251.0</td>\n",
       "      <td>187.0</td>\n",
       "      <td>60.0</td>\n",
       "      <td>0.0</td>\n",
       "      <td>98.0</td>\n",
       "      <td>1765.0</td>\n",
       "      <td>105.0</td>\n",
       "    </tr>\n",
       "    <tr>\n",
       "      <th>4</th>\n",
       "      <td>1</td>\n",
       "      <td>2014-09-18</td>\n",
       "      <td>1597.0</td>\n",
       "      <td>199.0</td>\n",
       "      <td>53.0</td>\n",
       "      <td>0.0</td>\n",
       "      <td>80.0</td>\n",
       "      <td>2300.0</td>\n",
       "      <td>60.0</td>\n",
       "      <td>2001.0</td>\n",
       "      <td>113.0</td>\n",
       "      <td>81.0</td>\n",
       "      <td>0.0</td>\n",
       "      <td>202.0</td>\n",
       "      <td>1101.0</td>\n",
       "      <td>71.0</td>\n",
       "    </tr>\n",
       "  </tbody>\n",
       "</table>\n",
       "</div>"
      ],
      "text/plain": [
       "   userid diary_date  goal_calories  goal_carbs  goal_fat  goal_fiber  \\\n",
       "0       1 2014-09-14         3173.0       396.0     105.0         0.0   \n",
       "1       1 2014-09-15         1572.0       196.0      52.0         0.0   \n",
       "2       1 2014-09-16         1832.0       229.0      61.0         0.0   \n",
       "3       1 2014-09-17         1685.0       210.0      56.0         0.0   \n",
       "4       1 2014-09-18         1597.0       199.0      53.0         0.0   \n",
       "\n",
       "   goal_protein  goal_sodium  goal_sugar  total_calories  total_carbs  \\\n",
       "0         160.0       2300.0       119.0          2924.0        340.0   \n",
       "1          79.0       2300.0        59.0          2430.0         96.0   \n",
       "2          92.0       2300.0        69.0          1862.0        158.0   \n",
       "3          85.0       2300.0        63.0          2251.0        187.0   \n",
       "4          80.0       2300.0        60.0          2001.0        113.0   \n",
       "\n",
       "   total_fat  total_fiber  total_protein  total_sodium  total_sugar  \n",
       "0      114.0          0.0          186.0        3658.0        109.0  \n",
       "1       37.0          0.0           50.0         855.0         63.0  \n",
       "2       54.0          0.0          114.0        2215.0        100.0  \n",
       "3       60.0          0.0           98.0        1765.0        105.0  \n",
       "4       81.0          0.0          202.0        1101.0         71.0  "
      ]
     },
     "execution_count": 14,
     "metadata": {},
     "output_type": "execute_result"
    }
   ],
   "source": [
    "clean_df.head()"
   ]
  },
  {
   "cell_type": "markdown",
   "metadata": {},
   "source": [
    "Add additional columns:\n",
    "- **total_sum**: Total sum of input values for the day\n",
    "- **goal_sum**: Total sum of goal values for the day\n",
    "- **achievement**: Indicates whether or not a user has met their daily goal within a tolerance of 10%.\n",
    "    - 1 = Succeed\n",
    "    - 0 = Fail"
   ]
  },
  {
   "cell_type": "code",
   "execution_count": null,
   "metadata": {},
   "outputs": [],
   "source": [
    "nutrients = ['calories','carbs','fat','fiber','protein','sodium','sugar']\n",
    "\n",
    "total_s = []\n",
    "goal_s = []\n",
    "for nutrient in nutrients:\n",
    "    total_s.append(f'total_{nutrient}')\n",
    "    goal_s.append(f'goal_{nutrient}')\n",
    "\n",
    "clean_df['total_sum'] = clean_df[total_s].apply(np.sum, axis=1)\n",
    "\n",
    "clean_df['goal_sum'] = clean_df[goal_s].apply(np.sum, axis=1)\n",
    "\n",
    "clean_df['achievement'] = np.where(abs((clean_df['total_sum'] - \n",
    "                                          clean_df['goal_sum']) / \n",
    "                                          clean_df['goal_sum']) <= 0.1, 1, 0)"
   ]
  },
  {
   "cell_type": "markdown",
   "metadata": {},
   "source": [
    "Creating a new column with the previous date of the diary_date column. This is important to calculate churn rate."
   ]
  },
  {
   "cell_type": "code",
   "execution_count": 17,
   "metadata": {},
   "outputs": [],
   "source": [
    "prev_date_col(clean_df)"
   ]
  },
  {
   "cell_type": "code",
   "execution_count": 164,
   "metadata": {
    "scrolled": false
   },
   "outputs": [
    {
     "data": {
      "text/html": [
       "<div>\n",
       "<style scoped>\n",
       "    .dataframe tbody tr th:only-of-type {\n",
       "        vertical-align: middle;\n",
       "    }\n",
       "\n",
       "    .dataframe tbody tr th {\n",
       "        vertical-align: top;\n",
       "    }\n",
       "\n",
       "    .dataframe thead th {\n",
       "        text-align: right;\n",
       "    }\n",
       "</style>\n",
       "<table border=\"1\" class=\"dataframe\">\n",
       "  <thead>\n",
       "    <tr style=\"text-align: right;\">\n",
       "      <th></th>\n",
       "      <th>userid</th>\n",
       "      <th>diary_date</th>\n",
       "      <th>goal_calories</th>\n",
       "      <th>goal_carbs</th>\n",
       "      <th>goal_fat</th>\n",
       "      <th>goal_fiber</th>\n",
       "      <th>goal_protein</th>\n",
       "      <th>goal_sodium</th>\n",
       "      <th>goal_sugar</th>\n",
       "      <th>total_calories</th>\n",
       "      <th>total_carbs</th>\n",
       "      <th>total_fat</th>\n",
       "      <th>total_fiber</th>\n",
       "      <th>total_protein</th>\n",
       "      <th>total_sodium</th>\n",
       "      <th>total_sugar</th>\n",
       "      <th>total_sum</th>\n",
       "      <th>goal_sum</th>\n",
       "      <th>achievement</th>\n",
       "      <th>end_date</th>\n",
       "    </tr>\n",
       "  </thead>\n",
       "  <tbody>\n",
       "    <tr>\n",
       "      <th>0</th>\n",
       "      <td>1</td>\n",
       "      <td>2014-09-14</td>\n",
       "      <td>3173.0</td>\n",
       "      <td>396.0</td>\n",
       "      <td>105.0</td>\n",
       "      <td>0.0</td>\n",
       "      <td>160.0</td>\n",
       "      <td>2300.0</td>\n",
       "      <td>119.0</td>\n",
       "      <td>2924.0</td>\n",
       "      <td>340.0</td>\n",
       "      <td>114.0</td>\n",
       "      <td>0.0</td>\n",
       "      <td>186.0</td>\n",
       "      <td>3658.0</td>\n",
       "      <td>109.0</td>\n",
       "      <td>7331.0</td>\n",
       "      <td>6253.0</td>\n",
       "      <td>0</td>\n",
       "      <td>2014-09-15</td>\n",
       "    </tr>\n",
       "    <tr>\n",
       "      <th>1</th>\n",
       "      <td>1</td>\n",
       "      <td>2014-09-15</td>\n",
       "      <td>1572.0</td>\n",
       "      <td>196.0</td>\n",
       "      <td>52.0</td>\n",
       "      <td>0.0</td>\n",
       "      <td>79.0</td>\n",
       "      <td>2300.0</td>\n",
       "      <td>59.0</td>\n",
       "      <td>2430.0</td>\n",
       "      <td>96.0</td>\n",
       "      <td>37.0</td>\n",
       "      <td>0.0</td>\n",
       "      <td>50.0</td>\n",
       "      <td>855.0</td>\n",
       "      <td>63.0</td>\n",
       "      <td>3531.0</td>\n",
       "      <td>4258.0</td>\n",
       "      <td>0</td>\n",
       "      <td>2014-09-16</td>\n",
       "    </tr>\n",
       "    <tr>\n",
       "      <th>2</th>\n",
       "      <td>1</td>\n",
       "      <td>2014-09-16</td>\n",
       "      <td>1832.0</td>\n",
       "      <td>229.0</td>\n",
       "      <td>61.0</td>\n",
       "      <td>0.0</td>\n",
       "      <td>92.0</td>\n",
       "      <td>2300.0</td>\n",
       "      <td>69.0</td>\n",
       "      <td>1862.0</td>\n",
       "      <td>158.0</td>\n",
       "      <td>54.0</td>\n",
       "      <td>0.0</td>\n",
       "      <td>114.0</td>\n",
       "      <td>2215.0</td>\n",
       "      <td>100.0</td>\n",
       "      <td>4503.0</td>\n",
       "      <td>4583.0</td>\n",
       "      <td>1</td>\n",
       "      <td>2014-09-17</td>\n",
       "    </tr>\n",
       "    <tr>\n",
       "      <th>3</th>\n",
       "      <td>1</td>\n",
       "      <td>2014-09-17</td>\n",
       "      <td>1685.0</td>\n",
       "      <td>210.0</td>\n",
       "      <td>56.0</td>\n",
       "      <td>0.0</td>\n",
       "      <td>85.0</td>\n",
       "      <td>2300.0</td>\n",
       "      <td>63.0</td>\n",
       "      <td>2251.0</td>\n",
       "      <td>187.0</td>\n",
       "      <td>60.0</td>\n",
       "      <td>0.0</td>\n",
       "      <td>98.0</td>\n",
       "      <td>1765.0</td>\n",
       "      <td>105.0</td>\n",
       "      <td>4466.0</td>\n",
       "      <td>4399.0</td>\n",
       "      <td>1</td>\n",
       "      <td>2014-09-18</td>\n",
       "    </tr>\n",
       "    <tr>\n",
       "      <th>4</th>\n",
       "      <td>1</td>\n",
       "      <td>2014-09-18</td>\n",
       "      <td>1597.0</td>\n",
       "      <td>199.0</td>\n",
       "      <td>53.0</td>\n",
       "      <td>0.0</td>\n",
       "      <td>80.0</td>\n",
       "      <td>2300.0</td>\n",
       "      <td>60.0</td>\n",
       "      <td>2001.0</td>\n",
       "      <td>113.0</td>\n",
       "      <td>81.0</td>\n",
       "      <td>0.0</td>\n",
       "      <td>202.0</td>\n",
       "      <td>1101.0</td>\n",
       "      <td>71.0</td>\n",
       "      <td>3569.0</td>\n",
       "      <td>4289.0</td>\n",
       "      <td>0</td>\n",
       "      <td>2014-09-19</td>\n",
       "    </tr>\n",
       "  </tbody>\n",
       "</table>\n",
       "</div>"
      ],
      "text/plain": [
       "   userid diary_date  goal_calories  goal_carbs  goal_fat  goal_fiber  \\\n",
       "0       1 2014-09-14         3173.0       396.0     105.0         0.0   \n",
       "1       1 2014-09-15         1572.0       196.0      52.0         0.0   \n",
       "2       1 2014-09-16         1832.0       229.0      61.0         0.0   \n",
       "3       1 2014-09-17         1685.0       210.0      56.0         0.0   \n",
       "4       1 2014-09-18         1597.0       199.0      53.0         0.0   \n",
       "\n",
       "   goal_protein  goal_sodium  goal_sugar  total_calories  total_carbs  \\\n",
       "0         160.0       2300.0       119.0          2924.0        340.0   \n",
       "1          79.0       2300.0        59.0          2430.0         96.0   \n",
       "2          92.0       2300.0        69.0          1862.0        158.0   \n",
       "3          85.0       2300.0        63.0          2251.0        187.0   \n",
       "4          80.0       2300.0        60.0          2001.0        113.0   \n",
       "\n",
       "   total_fat  total_fiber  total_protein  total_sodium  total_sugar  \\\n",
       "0      114.0          0.0          186.0        3658.0        109.0   \n",
       "1       37.0          0.0           50.0         855.0         63.0   \n",
       "2       54.0          0.0          114.0        2215.0        100.0   \n",
       "3       60.0          0.0           98.0        1765.0        105.0   \n",
       "4       81.0          0.0          202.0        1101.0         71.0   \n",
       "\n",
       "   total_sum  goal_sum  achievement   end_date  \n",
       "0     7331.0    6253.0            0 2014-09-15  \n",
       "1     3531.0    4258.0            0 2014-09-16  \n",
       "2     4503.0    4583.0            1 2014-09-17  \n",
       "3     4466.0    4399.0            1 2014-09-18  \n",
       "4     3569.0    4289.0            0 2014-09-19  "
      ]
     },
     "execution_count": 164,
     "metadata": {},
     "output_type": "execute_result"
    }
   ],
   "source": [
    "clean_df.head()"
   ]
  },
  {
   "cell_type": "markdown",
   "metadata": {},
   "source": [
    "## Exploratory Analysis with the newly cleaned dataframe"
   ]
  },
  {
   "cell_type": "markdown",
   "metadata": {},
   "source": [
    "### Create Multi-Collinearity Heatmap\n",
    "This is just to show if any columns have collinear values. We would essentially drop a certain column if the value they are highly correlated, but in this case we want to keep the features as they may pertain to the survival analysis model. As you can see sugar and carbs are correlated, which we can say is a true from domain knowledge."
   ]
  },
  {
   "cell_type": "code",
   "execution_count": 15,
   "metadata": {},
   "outputs": [],
   "source": [
    "coll = clean_df.drop(['userid','diary_date','goal_calories','goal_carbs',\n",
    "                        'goal_fat','goal_fiber','goal_protein','goal_sodium',\n",
    "                        'goal_sugar','total_sum','goal_sum','achievement'], axis=1)"
   ]
  },
  {
   "cell_type": "code",
   "execution_count": 16,
   "metadata": {
    "scrolled": false
   },
   "outputs": [
    {
     "data": {
      "text/plain": [
       "Text(0.5, 1.0, 'Multi-Collinearity of Attributes')"
      ]
     },
     "execution_count": 16,
     "metadata": {},
     "output_type": "execute_result"
    },
    {
     "data": {
      "image/png": "[encoded data removed]",
      "text/plain": [
       "<Figure size 720x432 with 2 Axes>"
      ]
     },
     "metadata": {
      "needs_background": "light"
     },
     "output_type": "display_data"
    }
   ],
   "source": [
    "fig, ax = plt.subplots(figsize=(10,6))\n",
    "sns.heatmap(coll.corr(), center=0, cmap='BrBG', annot=True)\n",
    "\n",
    "ax.set_title('Multi-Collinearity of Attributes')"
   ]
  },
  {
   "cell_type": "markdown",
   "metadata": {},
   "source": [
    "**Churn rate is set to be a measure of when a user stops tracking their nutritional inputs or using the app for 5 days in a row. Cutoff_date is to clean the data further to remove users that have started using MyFitnessPal 5 days before the end of the dataset.**"
   ]
  },
  {
   "cell_type": "code",
   "execution_count": 165,
   "metadata": {},
   "outputs": [
    {
     "data": {
      "text/plain": [
       "datetime.datetime(2015, 4, 6, 0, 0)"
      ]
     },
     "execution_count": 165,
     "metadata": {},
     "output_type": "execute_result"
    }
   ],
   "source": [
    "cutoff_date = datetime.strptime('2015-04-06','%Y-%m-%d')"
   ]
  },
  {
   "cell_type": "code",
   "execution_count": 166,
   "metadata": {},
   "outputs": [
    {
     "name": "stdout",
     "output_type": "stream",
     "text": [
      "(1074, 20)\n",
      "(586113, 20)\n",
      "(587187, 20)\n"
     ]
    }
   ],
   "source": [
    "print(clean_df.loc[clean_df['diary_date'] >= cutoff_date, :].shape)\n",
    "\n",
    "print(clean_df.loc[clean_df['diary_date'] < cutoff_date, :].shape)\n",
    "\n",
    "print(clean_df.shape)"
   ]
  },
  {
   "cell_type": "code",
   "execution_count": 167,
   "metadata": {},
   "outputs": [
    {
     "data": {
      "text/html": [
       "<div>\n",
       "<style scoped>\n",
       "    .dataframe tbody tr th:only-of-type {\n",
       "        vertical-align: middle;\n",
       "    }\n",
       "\n",
       "    .dataframe tbody tr th {\n",
       "        vertical-align: top;\n",
       "    }\n",
       "\n",
       "    .dataframe thead th {\n",
       "        text-align: right;\n",
       "    }\n",
       "</style>\n",
       "<table border=\"1\" class=\"dataframe\">\n",
       "  <thead>\n",
       "    <tr style=\"text-align: right;\">\n",
       "      <th></th>\n",
       "      <th>userid</th>\n",
       "      <th>diary_date</th>\n",
       "      <th>goal_calories</th>\n",
       "      <th>goal_carbs</th>\n",
       "      <th>goal_fat</th>\n",
       "      <th>goal_fiber</th>\n",
       "      <th>goal_protein</th>\n",
       "      <th>goal_sodium</th>\n",
       "      <th>goal_sugar</th>\n",
       "      <th>total_calories</th>\n",
       "      <th>total_carbs</th>\n",
       "      <th>total_fat</th>\n",
       "      <th>total_fiber</th>\n",
       "      <th>total_protein</th>\n",
       "      <th>total_sodium</th>\n",
       "      <th>total_sugar</th>\n",
       "      <th>total_sum</th>\n",
       "      <th>goal_sum</th>\n",
       "      <th>achievement</th>\n",
       "      <th>end_date</th>\n",
       "    </tr>\n",
       "  </thead>\n",
       "  <tbody>\n",
       "    <tr>\n",
       "      <th>0</th>\n",
       "      <td>1</td>\n",
       "      <td>2014-09-14</td>\n",
       "      <td>3173.0</td>\n",
       "      <td>396.0</td>\n",
       "      <td>105.0</td>\n",
       "      <td>0.0</td>\n",
       "      <td>160.0</td>\n",
       "      <td>2300.0</td>\n",
       "      <td>119.0</td>\n",
       "      <td>2924.0</td>\n",
       "      <td>340.0</td>\n",
       "      <td>114.0</td>\n",
       "      <td>0.0</td>\n",
       "      <td>186.0</td>\n",
       "      <td>3658.0</td>\n",
       "      <td>109.0</td>\n",
       "      <td>7331.0</td>\n",
       "      <td>6253.0</td>\n",
       "      <td>0</td>\n",
       "      <td>2014-09-15</td>\n",
       "    </tr>\n",
       "    <tr>\n",
       "      <th>1</th>\n",
       "      <td>1</td>\n",
       "      <td>2014-09-15</td>\n",
       "      <td>1572.0</td>\n",
       "      <td>196.0</td>\n",
       "      <td>52.0</td>\n",
       "      <td>0.0</td>\n",
       "      <td>79.0</td>\n",
       "      <td>2300.0</td>\n",
       "      <td>59.0</td>\n",
       "      <td>2430.0</td>\n",
       "      <td>96.0</td>\n",
       "      <td>37.0</td>\n",
       "      <td>0.0</td>\n",
       "      <td>50.0</td>\n",
       "      <td>855.0</td>\n",
       "      <td>63.0</td>\n",
       "      <td>3531.0</td>\n",
       "      <td>4258.0</td>\n",
       "      <td>0</td>\n",
       "      <td>2014-09-16</td>\n",
       "    </tr>\n",
       "    <tr>\n",
       "      <th>2</th>\n",
       "      <td>1</td>\n",
       "      <td>2014-09-16</td>\n",
       "      <td>1832.0</td>\n",
       "      <td>229.0</td>\n",
       "      <td>61.0</td>\n",
       "      <td>0.0</td>\n",
       "      <td>92.0</td>\n",
       "      <td>2300.0</td>\n",
       "      <td>69.0</td>\n",
       "      <td>1862.0</td>\n",
       "      <td>158.0</td>\n",
       "      <td>54.0</td>\n",
       "      <td>0.0</td>\n",
       "      <td>114.0</td>\n",
       "      <td>2215.0</td>\n",
       "      <td>100.0</td>\n",
       "      <td>4503.0</td>\n",
       "      <td>4583.0</td>\n",
       "      <td>1</td>\n",
       "      <td>2014-09-17</td>\n",
       "    </tr>\n",
       "    <tr>\n",
       "      <th>3</th>\n",
       "      <td>1</td>\n",
       "      <td>2014-09-17</td>\n",
       "      <td>1685.0</td>\n",
       "      <td>210.0</td>\n",
       "      <td>56.0</td>\n",
       "      <td>0.0</td>\n",
       "      <td>85.0</td>\n",
       "      <td>2300.0</td>\n",
       "      <td>63.0</td>\n",
       "      <td>2251.0</td>\n",
       "      <td>187.0</td>\n",
       "      <td>60.0</td>\n",
       "      <td>0.0</td>\n",
       "      <td>98.0</td>\n",
       "      <td>1765.0</td>\n",
       "      <td>105.0</td>\n",
       "      <td>4466.0</td>\n",
       "      <td>4399.0</td>\n",
       "      <td>1</td>\n",
       "      <td>2014-09-18</td>\n",
       "    </tr>\n",
       "    <tr>\n",
       "      <th>4</th>\n",
       "      <td>1</td>\n",
       "      <td>2014-09-18</td>\n",
       "      <td>1597.0</td>\n",
       "      <td>199.0</td>\n",
       "      <td>53.0</td>\n",
       "      <td>0.0</td>\n",
       "      <td>80.0</td>\n",
       "      <td>2300.0</td>\n",
       "      <td>60.0</td>\n",
       "      <td>2001.0</td>\n",
       "      <td>113.0</td>\n",
       "      <td>81.0</td>\n",
       "      <td>0.0</td>\n",
       "      <td>202.0</td>\n",
       "      <td>1101.0</td>\n",
       "      <td>71.0</td>\n",
       "      <td>3569.0</td>\n",
       "      <td>4289.0</td>\n",
       "      <td>0</td>\n",
       "      <td>2014-09-19</td>\n",
       "    </tr>\n",
       "  </tbody>\n",
       "</table>\n",
       "</div>"
      ],
      "text/plain": [
       "   userid diary_date  goal_calories  goal_carbs  goal_fat  goal_fiber  \\\n",
       "0       1 2014-09-14         3173.0       396.0     105.0         0.0   \n",
       "1       1 2014-09-15         1572.0       196.0      52.0         0.0   \n",
       "2       1 2014-09-16         1832.0       229.0      61.0         0.0   \n",
       "3       1 2014-09-17         1685.0       210.0      56.0         0.0   \n",
       "4       1 2014-09-18         1597.0       199.0      53.0         0.0   \n",
       "\n",
       "   goal_protein  goal_sodium  goal_sugar  total_calories  total_carbs  \\\n",
       "0         160.0       2300.0       119.0          2924.0        340.0   \n",
       "1          79.0       2300.0        59.0          2430.0         96.0   \n",
       "2          92.0       2300.0        69.0          1862.0        158.0   \n",
       "3          85.0       2300.0        63.0          2251.0        187.0   \n",
       "4          80.0       2300.0        60.0          2001.0        113.0   \n",
       "\n",
       "   total_fat  total_fiber  total_protein  total_sodium  total_sugar  \\\n",
       "0      114.0          0.0          186.0        3658.0        109.0   \n",
       "1       37.0          0.0           50.0         855.0         63.0   \n",
       "2       54.0          0.0          114.0        2215.0        100.0   \n",
       "3       60.0          0.0           98.0        1765.0        105.0   \n",
       "4       81.0          0.0          202.0        1101.0         71.0   \n",
       "\n",
       "   total_sum  goal_sum  achievement   end_date  \n",
       "0     7331.0    6253.0            0 2014-09-15  \n",
       "1     3531.0    4258.0            0 2014-09-16  \n",
       "2     4503.0    4583.0            1 2014-09-17  \n",
       "3     4466.0    4399.0            1 2014-09-18  \n",
       "4     3569.0    4289.0            0 2014-09-19  "
      ]
     },
     "execution_count": 167,
     "metadata": {},
     "output_type": "execute_result"
    }
   ],
   "source": [
    "clean_df = clean_df.loc[clean_df['diary_date'] < cutoff_date, :]\n",
    "\n",
    "clean_df.head()"
   ]
  },
  {
   "cell_type": "code",
   "execution_count": 168,
   "metadata": {},
   "outputs": [
    {
     "data": {
      "text/plain": [
       "9890"
      ]
     },
     "execution_count": 168,
     "metadata": {},
     "output_type": "execute_result"
    }
   ],
   "source": [
    "len(clean_df['userid'].unique())"
   ]
  },
  {
   "cell_type": "code",
   "execution_count": 169,
   "metadata": {
    "scrolled": true
   },
   "outputs": [
    {
     "name": "stdout",
     "output_type": "stream",
     "text": [
      "1 days    5\n",
      "4 days    1\n",
      "Name: diary_date, dtype: int64\n",
      "7\n"
     ]
    },
    {
     "data": {
      "text/html": [
       "<div>\n",
       "<style scoped>\n",
       "    .dataframe tbody tr th:only-of-type {\n",
       "        vertical-align: middle;\n",
       "    }\n",
       "\n",
       "    .dataframe tbody tr th {\n",
       "        vertical-align: top;\n",
       "    }\n",
       "\n",
       "    .dataframe thead th {\n",
       "        text-align: right;\n",
       "    }\n",
       "</style>\n",
       "<table border=\"1\" class=\"dataframe\">\n",
       "  <thead>\n",
       "    <tr style=\"text-align: right;\">\n",
       "      <th></th>\n",
       "      <th>userid</th>\n",
       "      <th>diary_date</th>\n",
       "      <th>goal_calories</th>\n",
       "      <th>goal_carbs</th>\n",
       "      <th>goal_fat</th>\n",
       "      <th>goal_fiber</th>\n",
       "      <th>goal_protein</th>\n",
       "      <th>goal_sodium</th>\n",
       "      <th>goal_sugar</th>\n",
       "      <th>total_calories</th>\n",
       "      <th>total_carbs</th>\n",
       "      <th>total_fat</th>\n",
       "      <th>total_fiber</th>\n",
       "      <th>total_protein</th>\n",
       "      <th>total_sodium</th>\n",
       "      <th>total_sugar</th>\n",
       "      <th>total_sum</th>\n",
       "      <th>goal_sum</th>\n",
       "      <th>achievement</th>\n",
       "      <th>end_date</th>\n",
       "    </tr>\n",
       "  </thead>\n",
       "  <tbody>\n",
       "    <tr>\n",
       "      <th>240</th>\n",
       "      <td>3</td>\n",
       "      <td>2014-09-23</td>\n",
       "      <td>1210.0</td>\n",
       "      <td>151.0</td>\n",
       "      <td>40.0</td>\n",
       "      <td>25.0</td>\n",
       "      <td>60.0</td>\n",
       "      <td>2300.0</td>\n",
       "      <td>0.0</td>\n",
       "      <td>1208.0</td>\n",
       "      <td>173.0</td>\n",
       "      <td>30.0</td>\n",
       "      <td>11.0</td>\n",
       "      <td>34.0</td>\n",
       "      <td>1707.0</td>\n",
       "      <td>0.0</td>\n",
       "      <td>3163.0</td>\n",
       "      <td>3786.0</td>\n",
       "      <td>0</td>\n",
       "      <td>2014-10-21</td>\n",
       "    </tr>\n",
       "  </tbody>\n",
       "</table>\n",
       "</div>"
      ],
      "text/plain": [
       "     userid diary_date  goal_calories  goal_carbs  goal_fat  goal_fiber  \\\n",
       "240       3 2014-09-23         1210.0       151.0      40.0        25.0   \n",
       "\n",
       "     goal_protein  goal_sodium  goal_sugar  total_calories  total_carbs  \\\n",
       "240          60.0       2300.0         0.0          1208.0        173.0   \n",
       "\n",
       "     total_fat  total_fiber  total_protein  total_sodium  total_sugar  \\\n",
       "240       30.0         11.0           34.0        1707.0          0.0   \n",
       "\n",
       "     total_sum  goal_sum  achievement   end_date  \n",
       "240     3163.0    3786.0            0 2014-10-21  "
      ]
     },
     "execution_count": 169,
     "metadata": {},
     "output_type": "execute_result"
    }
   ],
   "source": [
    "user = clean_df[clean_df['userid'] == 3]\n",
    "\n",
    "print(user.diary_date.diff().value_counts())\n",
    "\n",
    "print(user.diary_date.value_counts().sum())\n",
    "\n",
    "user[user.diary_date.diff() > pd.Timedelta(3, 'D')]"
   ]
  },
  {
   "cell_type": "code",
   "execution_count": 170,
   "metadata": {},
   "outputs": [
    {
     "data": {
      "text/plain": [
       "Timedelta('1 days 00:00:00')"
      ]
     },
     "execution_count": 170,
     "metadata": {},
     "output_type": "execute_result"
    }
   ],
   "source": [
    "clean_df.loc[0, 'end_date'] - clean_df.loc[0, 'diary_date']"
   ]
  },
  {
   "cell_type": "markdown",
   "metadata": {},
   "source": [
    "## Setup Data for Modeling:"
   ]
  },
  {
   "cell_type": "markdown",
   "metadata": {},
   "source": [
    "Using the function **find_date**, a dataframe is setup with the start date and the time they churn for all userid's. If they have not churned, NaT is there to indicate \"Not a Time.\""
   ]
  },
  {
   "cell_type": "code",
   "execution_count": 171,
   "metadata": {
    "scrolled": true
   },
   "outputs": [
    {
     "data": {
      "text/html": [
       "<div>\n",
       "<style scoped>\n",
       "    .dataframe tbody tr th:only-of-type {\n",
       "        vertical-align: middle;\n",
       "    }\n",
       "\n",
       "    .dataframe tbody tr th {\n",
       "        vertical-align: top;\n",
       "    }\n",
       "\n",
       "    .dataframe thead th {\n",
       "        text-align: right;\n",
       "    }\n",
       "</style>\n",
       "<table border=\"1\" class=\"dataframe\">\n",
       "  <thead>\n",
       "    <tr style=\"text-align: right;\">\n",
       "      <th></th>\n",
       "      <th>churn_date</th>\n",
       "      <th>start_date</th>\n",
       "      <th>userid</th>\n",
       "      <th>days</th>\n",
       "      <th>churn</th>\n",
       "    </tr>\n",
       "  </thead>\n",
       "  <tbody>\n",
       "    <tr>\n",
       "      <th>0</th>\n",
       "      <td>2014-11-01</td>\n",
       "      <td>2014-09-14</td>\n",
       "      <td>1</td>\n",
       "      <td>48.0</td>\n",
       "      <td>1</td>\n",
       "    </tr>\n",
       "    <tr>\n",
       "      <th>1</th>\n",
       "      <td>NaT</td>\n",
       "      <td>2015-01-12</td>\n",
       "      <td>2</td>\n",
       "      <td>NaN</td>\n",
       "      <td>0</td>\n",
       "    </tr>\n",
       "    <tr>\n",
       "      <th>2</th>\n",
       "      <td>2014-09-23</td>\n",
       "      <td>2014-09-14</td>\n",
       "      <td>3</td>\n",
       "      <td>9.0</td>\n",
       "      <td>1</td>\n",
       "    </tr>\n",
       "    <tr>\n",
       "      <th>3</th>\n",
       "      <td>2014-10-22</td>\n",
       "      <td>2014-10-21</td>\n",
       "      <td>4</td>\n",
       "      <td>1.0</td>\n",
       "      <td>1</td>\n",
       "    </tr>\n",
       "    <tr>\n",
       "      <th>4</th>\n",
       "      <td>NaT</td>\n",
       "      <td>2014-09-14</td>\n",
       "      <td>5</td>\n",
       "      <td>NaN</td>\n",
       "      <td>0</td>\n",
       "    </tr>\n",
       "  </tbody>\n",
       "</table>\n",
       "</div>"
      ],
      "text/plain": [
       "  churn_date start_date  userid  days  churn\n",
       "0 2014-11-01 2014-09-14       1  48.0      1\n",
       "1        NaT 2015-01-12       2   NaN      0\n",
       "2 2014-09-23 2014-09-14       3   9.0      1\n",
       "3 2014-10-22 2014-10-21       4   1.0      1\n",
       "4        NaT 2014-09-14       5   NaN      0"
      ]
     },
     "execution_count": 171,
     "metadata": {},
     "output_type": "execute_result"
    }
   ],
   "source": [
    "# Create dataframe from start date to churn date\n",
    "date = pd.DataFrame(find_date(clean_df))\n",
    "\n",
    "# Find difference in amount of days between start and churn date, and set as a float\n",
    "date['days'] = (date['churn_date'] - date['start_date']).dt.days\n",
    "\n",
    "# Create new column \"churn\": 1 if churn_date column has a date, and 0 if it has a NaT \n",
    "date['churn'] = date['churn_date'].apply(lambda x: 0 if type(x) is not pd.Timestamp else 1)\n",
    "date.head()"
   ]
  },
  {
   "cell_type": "code",
   "execution_count": 172,
   "metadata": {
    "scrolled": true
   },
   "outputs": [
    {
     "data": {
      "text/html": [
       "<div>\n",
       "<style scoped>\n",
       "    .dataframe tbody tr th:only-of-type {\n",
       "        vertical-align: middle;\n",
       "    }\n",
       "\n",
       "    .dataframe tbody tr th {\n",
       "        vertical-align: top;\n",
       "    }\n",
       "\n",
       "    .dataframe thead th {\n",
       "        text-align: right;\n",
       "    }\n",
       "</style>\n",
       "<table border=\"1\" class=\"dataframe\">\n",
       "  <thead>\n",
       "    <tr style=\"text-align: right;\">\n",
       "      <th></th>\n",
       "      <th>days_count</th>\n",
       "    </tr>\n",
       "  </thead>\n",
       "  <tbody>\n",
       "    <tr>\n",
       "      <th>1</th>\n",
       "      <td>174</td>\n",
       "    </tr>\n",
       "    <tr>\n",
       "      <th>2</th>\n",
       "      <td>60</td>\n",
       "    </tr>\n",
       "    <tr>\n",
       "      <th>3</th>\n",
       "      <td>7</td>\n",
       "    </tr>\n",
       "    <tr>\n",
       "      <th>4</th>\n",
       "      <td>27</td>\n",
       "    </tr>\n",
       "    <tr>\n",
       "      <th>5</th>\n",
       "      <td>179</td>\n",
       "    </tr>\n",
       "  </tbody>\n",
       "</table>\n",
       "</div>"
      ],
      "text/plain": [
       "   days_count\n",
       "1         174\n",
       "2          60\n",
       "3           7\n",
       "4          27\n",
       "5         179"
      ]
     },
     "execution_count": 172,
     "metadata": {},
     "output_type": "execute_result"
    }
   ],
   "source": [
    "# Create a dataframe with just userid and total amount of days each user has used the app\n",
    "days_count = clean_df['userid'].value_counts().sort_index()\n",
    "days_count = pd.DataFrame(days_count).rename(columns={'userid': 'days_count'})\n",
    "\n",
    "days_count.head()"
   ]
  },
  {
   "cell_type": "code",
   "execution_count": 173,
   "metadata": {
    "scrolled": true
   },
   "outputs": [
    {
     "data": {
      "text/html": [
       "<div>\n",
       "<style scoped>\n",
       "    .dataframe tbody tr th:only-of-type {\n",
       "        vertical-align: middle;\n",
       "    }\n",
       "\n",
       "    .dataframe tbody tr th {\n",
       "        vertical-align: top;\n",
       "    }\n",
       "\n",
       "    .dataframe thead th {\n",
       "        text-align: right;\n",
       "    }\n",
       "</style>\n",
       "<table border=\"1\" class=\"dataframe\">\n",
       "  <thead>\n",
       "    <tr style=\"text-align: right;\">\n",
       "      <th></th>\n",
       "      <th>days_count</th>\n",
       "      <th>churn_date</th>\n",
       "      <th>start_date</th>\n",
       "      <th>days</th>\n",
       "      <th>churn</th>\n",
       "    </tr>\n",
       "    <tr>\n",
       "      <th>userid</th>\n",
       "      <th></th>\n",
       "      <th></th>\n",
       "      <th></th>\n",
       "      <th></th>\n",
       "      <th></th>\n",
       "    </tr>\n",
       "  </thead>\n",
       "  <tbody>\n",
       "    <tr>\n",
       "      <th>1</th>\n",
       "      <td>174</td>\n",
       "      <td>2014-11-01</td>\n",
       "      <td>2014-09-14</td>\n",
       "      <td>48.0</td>\n",
       "      <td>1</td>\n",
       "    </tr>\n",
       "    <tr>\n",
       "      <th>2</th>\n",
       "      <td>60</td>\n",
       "      <td>NaT</td>\n",
       "      <td>2015-01-12</td>\n",
       "      <td>60.0</td>\n",
       "      <td>0</td>\n",
       "    </tr>\n",
       "    <tr>\n",
       "      <th>3</th>\n",
       "      <td>7</td>\n",
       "      <td>2014-09-23</td>\n",
       "      <td>2014-09-14</td>\n",
       "      <td>9.0</td>\n",
       "      <td>1</td>\n",
       "    </tr>\n",
       "    <tr>\n",
       "      <th>4</th>\n",
       "      <td>27</td>\n",
       "      <td>2014-10-22</td>\n",
       "      <td>2014-10-21</td>\n",
       "      <td>1.0</td>\n",
       "      <td>1</td>\n",
       "    </tr>\n",
       "    <tr>\n",
       "      <th>5</th>\n",
       "      <td>179</td>\n",
       "      <td>NaT</td>\n",
       "      <td>2014-09-14</td>\n",
       "      <td>179.0</td>\n",
       "      <td>0</td>\n",
       "    </tr>\n",
       "  </tbody>\n",
       "</table>\n",
       "</div>"
      ],
      "text/plain": [
       "        days_count churn_date start_date   days  churn\n",
       "userid                                                \n",
       "1              174 2014-11-01 2014-09-14   48.0      1\n",
       "2               60        NaT 2015-01-12   60.0      0\n",
       "3                7 2014-09-23 2014-09-14    9.0      1\n",
       "4               27 2014-10-22 2014-10-21    1.0      1\n",
       "5              179        NaT 2014-09-14  179.0      0"
      ]
     },
     "execution_count": 173,
     "metadata": {},
     "output_type": "execute_result"
    }
   ],
   "source": [
    "# Merge date and days_count dataframes\n",
    "df_set = pd.merge(days_count, date, left_index=True, right_on='userid')\n",
    "df_set.index = df_set['userid']\n",
    "df_set = df_set.drop('userid', axis=1)\n",
    "\n",
    "# Fill the null values in \"days\" with the corresponding values in \"days_count\"\n",
    "df_set.days.fillna(df_set.days_count, inplace=True)\n",
    "\n",
    "df_set.head()"
   ]
  },
  {
   "cell_type": "code",
   "execution_count": 205,
   "metadata": {
    "scrolled": true
   },
   "outputs": [
    {
     "data": {
      "text/html": [
       "<div>\n",
       "<style scoped>\n",
       "    .dataframe tbody tr th:only-of-type {\n",
       "        vertical-align: middle;\n",
       "    }\n",
       "\n",
       "    .dataframe tbody tr th {\n",
       "        vertical-align: top;\n",
       "    }\n",
       "\n",
       "    .dataframe thead th {\n",
       "        text-align: right;\n",
       "    }\n",
       "</style>\n",
       "<table border=\"1\" class=\"dataframe\">\n",
       "  <thead>\n",
       "    <tr style=\"text-align: right;\">\n",
       "      <th></th>\n",
       "      <th>days_count</th>\n",
       "      <th>churn_date</th>\n",
       "      <th>start_date</th>\n",
       "      <th>days</th>\n",
       "      <th>churn</th>\n",
       "      <th>goal_calories</th>\n",
       "      <th>goal_carbs</th>\n",
       "      <th>goal_fat</th>\n",
       "      <th>goal_fiber</th>\n",
       "      <th>goal_protein</th>\n",
       "      <th>...</th>\n",
       "      <th>total_calories</th>\n",
       "      <th>total_carbs</th>\n",
       "      <th>total_fat</th>\n",
       "      <th>total_fiber</th>\n",
       "      <th>total_protein</th>\n",
       "      <th>total_sodium</th>\n",
       "      <th>total_sugar</th>\n",
       "      <th>total_sum</th>\n",
       "      <th>goal_sum</th>\n",
       "      <th>achievement</th>\n",
       "    </tr>\n",
       "    <tr>\n",
       "      <th>userid</th>\n",
       "      <th></th>\n",
       "      <th></th>\n",
       "      <th></th>\n",
       "      <th></th>\n",
       "      <th></th>\n",
       "      <th></th>\n",
       "      <th></th>\n",
       "      <th></th>\n",
       "      <th></th>\n",
       "      <th></th>\n",
       "      <th></th>\n",
       "      <th></th>\n",
       "      <th></th>\n",
       "      <th></th>\n",
       "      <th></th>\n",
       "      <th></th>\n",
       "      <th></th>\n",
       "      <th></th>\n",
       "      <th></th>\n",
       "      <th></th>\n",
       "      <th></th>\n",
       "    </tr>\n",
       "  </thead>\n",
       "  <tbody>\n",
       "    <tr>\n",
       "      <th>1</th>\n",
       "      <td>174</td>\n",
       "      <td>2014-11-01</td>\n",
       "      <td>2014-09-14</td>\n",
       "      <td>48.0</td>\n",
       "      <td>1</td>\n",
       "      <td>375085.0</td>\n",
       "      <td>46633.0</td>\n",
       "      <td>12472.0</td>\n",
       "      <td>0.0</td>\n",
       "      <td>19029.0</td>\n",
       "      <td>...</td>\n",
       "      <td>401750.0</td>\n",
       "      <td>32265.0</td>\n",
       "      <td>13562.0</td>\n",
       "      <td>0.0</td>\n",
       "      <td>22408.0</td>\n",
       "      <td>360487.0</td>\n",
       "      <td>14227.0</td>\n",
       "      <td>844699.0</td>\n",
       "      <td>867495.0</td>\n",
       "      <td>68</td>\n",
       "    </tr>\n",
       "    <tr>\n",
       "      <th>2</th>\n",
       "      <td>60</td>\n",
       "      <td>NaT</td>\n",
       "      <td>2015-01-12</td>\n",
       "      <td>60.0</td>\n",
       "      <td>0</td>\n",
       "      <td>90925.0</td>\n",
       "      <td>11387.0</td>\n",
       "      <td>2955.0</td>\n",
       "      <td>0.0</td>\n",
       "      <td>4714.0</td>\n",
       "      <td>...</td>\n",
       "      <td>87430.0</td>\n",
       "      <td>10872.0</td>\n",
       "      <td>2537.0</td>\n",
       "      <td>0.0</td>\n",
       "      <td>2550.0</td>\n",
       "      <td>100217.0</td>\n",
       "      <td>4573.0</td>\n",
       "      <td>208179.0</td>\n",
       "      <td>251403.0</td>\n",
       "      <td>11</td>\n",
       "    </tr>\n",
       "    <tr>\n",
       "      <th>3</th>\n",
       "      <td>7</td>\n",
       "      <td>2014-09-23</td>\n",
       "      <td>2014-09-14</td>\n",
       "      <td>9.0</td>\n",
       "      <td>1</td>\n",
       "      <td>9438.0</td>\n",
       "      <td>1178.0</td>\n",
       "      <td>312.0</td>\n",
       "      <td>196.0</td>\n",
       "      <td>469.0</td>\n",
       "      <td>...</td>\n",
       "      <td>11969.0</td>\n",
       "      <td>811.0</td>\n",
       "      <td>267.0</td>\n",
       "      <td>120.0</td>\n",
       "      <td>323.0</td>\n",
       "      <td>10156.0</td>\n",
       "      <td>0.0</td>\n",
       "      <td>23646.0</td>\n",
       "      <td>27693.0</td>\n",
       "      <td>2</td>\n",
       "    </tr>\n",
       "    <tr>\n",
       "      <th>4</th>\n",
       "      <td>27</td>\n",
       "      <td>2014-10-22</td>\n",
       "      <td>2014-10-21</td>\n",
       "      <td>1.0</td>\n",
       "      <td>1</td>\n",
       "      <td>44211.0</td>\n",
       "      <td>5524.0</td>\n",
       "      <td>1464.0</td>\n",
       "      <td>0.0</td>\n",
       "      <td>2223.0</td>\n",
       "      <td>...</td>\n",
       "      <td>24636.0</td>\n",
       "      <td>2682.0</td>\n",
       "      <td>1001.0</td>\n",
       "      <td>0.0</td>\n",
       "      <td>1153.0</td>\n",
       "      <td>40061.0</td>\n",
       "      <td>0.0</td>\n",
       "      <td>69533.0</td>\n",
       "      <td>115522.0</td>\n",
       "      <td>4</td>\n",
       "    </tr>\n",
       "    <tr>\n",
       "      <th>5</th>\n",
       "      <td>179</td>\n",
       "      <td>NaT</td>\n",
       "      <td>2014-09-14</td>\n",
       "      <td>179.0</td>\n",
       "      <td>0</td>\n",
       "      <td>572414.0</td>\n",
       "      <td>0.0</td>\n",
       "      <td>15948.0</td>\n",
       "      <td>7564.0</td>\n",
       "      <td>35677.0</td>\n",
       "      <td>...</td>\n",
       "      <td>536631.0</td>\n",
       "      <td>0.0</td>\n",
       "      <td>13818.0</td>\n",
       "      <td>6305.0</td>\n",
       "      <td>33720.0</td>\n",
       "      <td>358700.0</td>\n",
       "      <td>21707.0</td>\n",
       "      <td>970881.0</td>\n",
       "      <td>1064788.0</td>\n",
       "      <td>58</td>\n",
       "    </tr>\n",
       "  </tbody>\n",
       "</table>\n",
       "<p>5 rows × 22 columns</p>\n",
       "</div>"
      ],
      "text/plain": [
       "        days_count churn_date start_date   days  churn  goal_calories  \\\n",
       "userid                                                                  \n",
       "1              174 2014-11-01 2014-09-14   48.0      1       375085.0   \n",
       "2               60        NaT 2015-01-12   60.0      0        90925.0   \n",
       "3                7 2014-09-23 2014-09-14    9.0      1         9438.0   \n",
       "4               27 2014-10-22 2014-10-21    1.0      1        44211.0   \n",
       "5              179        NaT 2014-09-14  179.0      0       572414.0   \n",
       "\n",
       "        goal_carbs  goal_fat  goal_fiber  goal_protein     ...       \\\n",
       "userid                                                     ...        \n",
       "1          46633.0   12472.0         0.0       19029.0     ...        \n",
       "2          11387.0    2955.0         0.0        4714.0     ...        \n",
       "3           1178.0     312.0       196.0         469.0     ...        \n",
       "4           5524.0    1464.0         0.0        2223.0     ...        \n",
       "5              0.0   15948.0      7564.0       35677.0     ...        \n",
       "\n",
       "        total_calories  total_carbs  total_fat  total_fiber  total_protein  \\\n",
       "userid                                                                       \n",
       "1             401750.0      32265.0    13562.0          0.0        22408.0   \n",
       "2              87430.0      10872.0     2537.0          0.0         2550.0   \n",
       "3              11969.0        811.0      267.0        120.0          323.0   \n",
       "4              24636.0       2682.0     1001.0          0.0         1153.0   \n",
       "5             536631.0          0.0    13818.0       6305.0        33720.0   \n",
       "\n",
       "        total_sodium  total_sugar  total_sum   goal_sum  achievement  \n",
       "userid                                                                \n",
       "1           360487.0      14227.0   844699.0   867495.0           68  \n",
       "2           100217.0       4573.0   208179.0   251403.0           11  \n",
       "3            10156.0          0.0    23646.0    27693.0            2  \n",
       "4            40061.0          0.0    69533.0   115522.0            4  \n",
       "5           358700.0      21707.0   970881.0  1064788.0           58  \n",
       "\n",
       "[5 rows x 22 columns]"
      ]
     },
     "execution_count": 205,
     "metadata": {},
     "output_type": "execute_result"
    }
   ],
   "source": [
    "cols = clean_df.drop(['userid','diary_date'], axis=1).columns\n",
    "\n",
    "condense = clean_df.groupby(['userid'])[cols].sum()\n",
    "\n",
    "svl = pd.merge(df_set, condense, left_index=True, right_index=True)\n",
    "svl.head()"
   ]
  },
  {
   "cell_type": "code",
   "execution_count": 206,
   "metadata": {},
   "outputs": [],
   "source": [
    "# Creates 7 new columns calculating whether or not a user has reached within 10% of their goal,\n",
    "# for the duration of the time using the app\n",
    "nutrients = ['calories','carbs','fat','fiber','protein','sodium','sugar']\n",
    "\n",
    "for nutrient in nutrients:\n",
    "    total = svl[f'total_{nutrient}']\n",
    "    goal = svl[f'goal_{nutrient}']\n",
    "    svl[f'{nutrient}_10_pct'] = np.where(abs((total - goal) / goal) <= 0.1, 1, 0)"
   ]
  },
  {
   "cell_type": "code",
   "execution_count": 207,
   "metadata": {},
   "outputs": [],
   "source": [
    "svl.drop(svl.columns.difference(['days','churn','calories_10_pct','carbs_10_pct',\n",
    "                                 'fat_10_pct','fiber_10_pct','protein_10_pct',\n",
    "                                 'sodium_10_pct','sugar_10_pct','achievement']), 1, inplace=True)"
   ]
  },
  {
   "cell_type": "code",
   "execution_count": 334,
   "metadata": {},
   "outputs": [
    {
     "data": {
      "text/html": [
       "<div>\n",
       "<style scoped>\n",
       "    .dataframe tbody tr th:only-of-type {\n",
       "        vertical-align: middle;\n",
       "    }\n",
       "\n",
       "    .dataframe tbody tr th {\n",
       "        vertical-align: top;\n",
       "    }\n",
       "\n",
       "    .dataframe thead th {\n",
       "        text-align: right;\n",
       "    }\n",
       "</style>\n",
       "<table border=\"1\" class=\"dataframe\">\n",
       "  <thead>\n",
       "    <tr style=\"text-align: right;\">\n",
       "      <th></th>\n",
       "      <th>days</th>\n",
       "      <th>churn</th>\n",
       "      <th>achievement</th>\n",
       "      <th>calories_10_pct</th>\n",
       "      <th>carbs_10_pct</th>\n",
       "      <th>fat_10_pct</th>\n",
       "      <th>fiber_10_pct</th>\n",
       "      <th>protein_10_pct</th>\n",
       "      <th>sodium_10_pct</th>\n",
       "      <th>sugar_10_pct</th>\n",
       "    </tr>\n",
       "    <tr>\n",
       "      <th>userid</th>\n",
       "      <th></th>\n",
       "      <th></th>\n",
       "      <th></th>\n",
       "      <th></th>\n",
       "      <th></th>\n",
       "      <th></th>\n",
       "      <th></th>\n",
       "      <th></th>\n",
       "      <th></th>\n",
       "      <th></th>\n",
       "    </tr>\n",
       "  </thead>\n",
       "  <tbody>\n",
       "    <tr>\n",
       "      <th>1</th>\n",
       "      <td>48.0</td>\n",
       "      <td>1</td>\n",
       "      <td>68</td>\n",
       "      <td>1</td>\n",
       "      <td>0</td>\n",
       "      <td>1</td>\n",
       "      <td>0</td>\n",
       "      <td>0</td>\n",
       "      <td>1</td>\n",
       "      <td>1</td>\n",
       "    </tr>\n",
       "    <tr>\n",
       "      <th>2</th>\n",
       "      <td>60.0</td>\n",
       "      <td>0</td>\n",
       "      <td>11</td>\n",
       "      <td>1</td>\n",
       "      <td>1</td>\n",
       "      <td>0</td>\n",
       "      <td>0</td>\n",
       "      <td>0</td>\n",
       "      <td>0</td>\n",
       "      <td>0</td>\n",
       "    </tr>\n",
       "    <tr>\n",
       "      <th>3</th>\n",
       "      <td>9.0</td>\n",
       "      <td>1</td>\n",
       "      <td>2</td>\n",
       "      <td>0</td>\n",
       "      <td>0</td>\n",
       "      <td>0</td>\n",
       "      <td>0</td>\n",
       "      <td>0</td>\n",
       "      <td>0</td>\n",
       "      <td>0</td>\n",
       "    </tr>\n",
       "    <tr>\n",
       "      <th>4</th>\n",
       "      <td>1.0</td>\n",
       "      <td>1</td>\n",
       "      <td>4</td>\n",
       "      <td>0</td>\n",
       "      <td>0</td>\n",
       "      <td>0</td>\n",
       "      <td>0</td>\n",
       "      <td>0</td>\n",
       "      <td>0</td>\n",
       "      <td>0</td>\n",
       "    </tr>\n",
       "    <tr>\n",
       "      <th>5</th>\n",
       "      <td>179.0</td>\n",
       "      <td>0</td>\n",
       "      <td>58</td>\n",
       "      <td>1</td>\n",
       "      <td>0</td>\n",
       "      <td>0</td>\n",
       "      <td>0</td>\n",
       "      <td>1</td>\n",
       "      <td>0</td>\n",
       "      <td>1</td>\n",
       "    </tr>\n",
       "  </tbody>\n",
       "</table>\n",
       "</div>"
      ],
      "text/plain": [
       "         days  churn  achievement  calories_10_pct  carbs_10_pct  fat_10_pct  \\\n",
       "userid                                                                         \n",
       "1        48.0      1           68                1             0           1   \n",
       "2        60.0      0           11                1             1           0   \n",
       "3         9.0      1            2                0             0           0   \n",
       "4         1.0      1            4                0             0           0   \n",
       "5       179.0      0           58                1             0           0   \n",
       "\n",
       "        fiber_10_pct  protein_10_pct  sodium_10_pct  sugar_10_pct  \n",
       "userid                                                             \n",
       "1                  0               0              1             1  \n",
       "2                  0               0              0             0  \n",
       "3                  0               0              0             0  \n",
       "4                  0               0              0             0  \n",
       "5                  0               1              0             1  "
      ]
     },
     "execution_count": 334,
     "metadata": {},
     "output_type": "execute_result"
    }
   ],
   "source": [
    "svl.head()"
   ]
  },
  {
   "cell_type": "markdown",
   "metadata": {},
   "source": [
    "### Pickled file:\n",
    "Save processing time when loading into a dataframe.\n",
    "\n",
    "- svl.pkl"
   ]
  },
  {
   "cell_type": "code",
   "execution_count": 335,
   "metadata": {},
   "outputs": [
    {
     "data": {
      "text/plain": [
       "1    7107\n",
       "0    2783\n",
       "Name: churn, dtype: int64"
      ]
     },
     "execution_count": 335,
     "metadata": {},
     "output_type": "execute_result"
    }
   ],
   "source": [
    "svl['churn'].value_counts()"
   ]
  },
  {
   "cell_type": "markdown",
   "metadata": {},
   "source": [
    "## Histogram of users that churned\n",
    "## label graphs*"
   ]
  },
  {
   "cell_type": "code",
   "execution_count": 210,
   "metadata": {},
   "outputs": [
    {
     "data": {
      "text/plain": [
       "(array([4032., 1213.,  661.,  444.,  313.,  213.,   85.,   65.,   40.,\n",
       "          41.]),\n",
       " array([  1.,  18.,  35.,  52.,  69.,  86., 103., 120., 137., 154., 171.]),\n",
       " <a list of 10 Patch objects>)"
      ]
     },
     "execution_count": 210,
     "metadata": {},
     "output_type": "execute_result"
    },
    {
     "data": {
      "image/png": "[encoded data removed]",
      "text/plain": [
       "<Figure size 432x288 with 1 Axes>"
      ]
     },
     "metadata": {
      "needs_background": "light"
     },
     "output_type": "display_data"
    }
   ],
   "source": [
    "h = svl.loc[svl['churn'] == 1, 'days']\n",
    "plt.hist(h)"
   ]
  },
  {
   "cell_type": "code",
   "execution_count": 211,
   "metadata": {},
   "outputs": [
    {
     "data": {
      "text/plain": [
       "(array([1260.,  183.,  148.,  163.,  131.,   45.,   30.,   44.,  125.,\n",
       "         654.]),\n",
       " array([  1. ,  19.6,  38.2,  56.8,  75.4,  94. , 112.6, 131.2, 149.8,\n",
       "        168.4, 187. ]),\n",
       " <a list of 10 Patch objects>)"
      ]
     },
     "execution_count": 211,
     "metadata": {},
     "output_type": "execute_result"
    },
    {
     "data": {
      "image/png": "[encoded data removed]",
      "text/plain": [
       "<Figure size 432x288 with 1 Axes>"
      ]
     },
     "metadata": {
      "needs_background": "light"
     },
     "output_type": "display_data"
    }
   ],
   "source": [
    "z = svl.loc[svl['churn'] == 0, 'days']\n",
    "plt.hist(z)"
   ]
  },
  {
   "cell_type": "markdown",
   "metadata": {},
   "source": [
    "## Logistic Regression"
   ]
  },
  {
   "cell_type": "code",
   "execution_count": 337,
   "metadata": {},
   "outputs": [],
   "source": [
    "from sklearn.model_selection import train_test_split\n",
    "from sklearn.linear_model import LogisticRegression\n",
    "from sklearn.preprocessing import StandardScaler\n",
    "from sklearn.metrics import (roc_curve, auc, precision_score, recall_score, accuracy_score,\n",
    "f1_score, confusion_matrix, classification_report)"
   ]
  },
  {
   "cell_type": "code",
   "execution_count": 338,
   "metadata": {},
   "outputs": [],
   "source": [
    "#Setting X and y variables, then Train Test Split\n",
    "X = svl.drop(['churn'], axis=1)\n",
    "y = svl.churn\n",
    "\n",
    "X_train, X_test, y_train, y_test = train_test_split(X, y, test_size=0.25, random_state=10)"
   ]
  },
  {
   "cell_type": "code",
   "execution_count": 339,
   "metadata": {},
   "outputs": [],
   "source": [
    "loreg = LogisticRegression(solver='lbfgs', max_iter=1000)\n",
    "loreg.fit(X_train, y_train)\n",
    "loreg_preds = loreg.predict(X_test)"
   ]
  },
  {
   "cell_type": "code",
   "execution_count": 340,
   "metadata": {
    "scrolled": false
   },
   "outputs": [
    {
     "name": "stdout",
     "output_type": "stream",
     "text": [
      "Precision Score: 0.7753017641597029\n",
      "Recall Score: 0.9488636363636364\n",
      "Accuracy Score: 0.7678932470683381\n",
      "F1 Score: 0.8533469596320901\n"
     ]
    }
   ],
   "source": [
    "def print_metrics(y, loreg_preds):\n",
    "    print(\"Precision Score: {}\".format(precision_score(y, loreg_preds)))\n",
    "    print(\"Recall Score: {}\".format(recall_score(y, loreg_preds)))\n",
    "    print(\"Accuracy Score: {}\".format(accuracy_score(y, loreg_preds)))\n",
    "    print(\"F1 Score: {}\".format(f1_score(y, loreg_preds)))\n",
    "    \n",
    "print_metrics(y_test, loreg_preds)"
   ]
  },
  {
   "cell_type": "code",
   "execution_count": 341,
   "metadata": {},
   "outputs": [
    {
     "name": "stdout",
     "output_type": "stream",
     "text": [
      "              precision    recall  f1-score   support\n",
      "\n",
      "           0       0.72      0.32      0.44       713\n",
      "           1       0.78      0.95      0.85      1760\n",
      "\n",
      "   micro avg       0.77      0.77      0.77      2473\n",
      "   macro avg       0.75      0.64      0.65      2473\n",
      "weighted avg       0.76      0.77      0.74      2473\n",
      "\n"
     ]
    }
   ],
   "source": [
    "print(classification_report(y_test, loreg_preds))"
   ]
  },
  {
   "cell_type": "code",
   "execution_count": 348,
   "metadata": {},
   "outputs": [
    {
     "data": {
      "text/html": [
       "<div>\n",
       "<style scoped>\n",
       "    .dataframe tbody tr th:only-of-type {\n",
       "        vertical-align: middle;\n",
       "    }\n",
       "\n",
       "    .dataframe tbody tr th {\n",
       "        vertical-align: top;\n",
       "    }\n",
       "\n",
       "    .dataframe thead th {\n",
       "        text-align: right;\n",
       "    }\n",
       "</style>\n",
       "<table border=\"1\" class=\"dataframe\">\n",
       "  <thead>\n",
       "    <tr style=\"text-align: right;\">\n",
       "      <th></th>\n",
       "      <th>0</th>\n",
       "      <th>1</th>\n",
       "      <th>2</th>\n",
       "      <th>3</th>\n",
       "      <th>4</th>\n",
       "      <th>5</th>\n",
       "      <th>6</th>\n",
       "      <th>7</th>\n",
       "      <th>8</th>\n",
       "    </tr>\n",
       "  </thead>\n",
       "  <tbody>\n",
       "    <tr>\n",
       "      <th>0</th>\n",
       "      <td>50</td>\n",
       "      <td>1</td>\n",
       "      <td>0</td>\n",
       "      <td>1</td>\n",
       "      <td>0</td>\n",
       "      <td>0</td>\n",
       "      <td>0</td>\n",
       "      <td>0</td>\n",
       "      <td>1</td>\n",
       "    </tr>\n",
       "  </tbody>\n",
       "</table>\n",
       "</div>"
      ],
      "text/plain": [
       "    0  1  2  3  4  5  6  7  8\n",
       "0  50  1  0  1  0  0  0  0  1"
      ]
     },
     "execution_count": 348,
     "metadata": {},
     "output_type": "execute_result"
    }
   ],
   "source": [
    "p = np.array((50, 1, 0, 1, 0, 0, 0, 0, 1))\n",
    "p_df = pd.DataFrame(p).T\n",
    "p_df"
   ]
  },
  {
   "cell_type": "code",
   "execution_count": 344,
   "metadata": {},
   "outputs": [
    {
     "data": {
      "text/plain": [
       "array([[0.37624455, 0.62375545]])"
      ]
     },
     "execution_count": 344,
     "metadata": {},
     "output_type": "execute_result"
    }
   ],
   "source": [
    "loreg.predict_proba(m_df)"
   ]
  },
  {
   "cell_type": "code",
   "execution_count": 345,
   "metadata": {},
   "outputs": [
    {
     "name": "stdout",
     "output_type": "stream",
     "text": [
      "AUC: 0.7029373326533215\n"
     ]
    },
    {
     "data": {
      "image/png": "[encoded data removed]",
      "text/plain": [
       "<Figure size 720x576 with 1 Axes>"
      ]
     },
     "metadata": {
      "needs_background": "light"
     },
     "output_type": "display_data"
    }
   ],
   "source": [
    "y_score = loreg.decision_function(X_test)\n",
    "\n",
    "fpr, tpr, thresholds = roc_curve(y_test, y_score)\n",
    "print('AUC: {}'.format(auc(fpr, tpr)))\n",
    "plt.figure(figsize=(10,8))\n",
    "lw = 2\n",
    "plt.plot(fpr, tpr, color='darkorange',\n",
    "         lw=lw, label='ROC curve')\n",
    "plt.plot([0, 1], [0, 1], color='navy', lw=lw, linestyle='--')\n",
    "plt.xlim([0.0, 1.0])\n",
    "plt.ylim([0.0, 1.05])\n",
    "plt.yticks([i/20.0 for i in range(21)])\n",
    "plt.xticks([i/20.0 for i in range(21)])\n",
    "plt.xlabel('False Positive Rate')\n",
    "plt.ylabel('True Positive Rate')\n",
    "plt.title('Receiver operating characteristic (ROC) Curve')\n",
    "plt.legend(loc=\"lower right\")\n",
    "plt.show()"
   ]
  },
  {
   "cell_type": "markdown",
   "metadata": {},
   "source": [
    "### Exporting model as pickle file to make predictions in flask app"
   ]
  },
  {
   "cell_type": "code",
   "execution_count": 346,
   "metadata": {},
   "outputs": [],
   "source": [
    "pickle.dump(loreg, open(\"pkl/model.pkl\", \"wb\"))"
   ]
  },
  {
   "cell_type": "code",
   "execution_count": 347,
   "metadata": {},
   "outputs": [
    {
     "name": "stdout",
     "output_type": "stream",
     "text": [
      "[1 1 1 ... 1 1 1]\n",
      "(2473, 9)\n"
     ]
    }
   ],
   "source": [
    "my_model = pickle.load(open(\"pkl/model.pkl\", \"rb\"))\n",
    "\n",
    "print(my_model.predict(X_test))\n",
    "\n",
    "print(X_test.shape)"
   ]
  },
  {
   "cell_type": "markdown",
   "metadata": {},
   "source": [
    "### Cox Proportional Hazards Model:\n",
    "1. duration_col = length of time between start date and time of churn\n",
    "2. event_col = time of churn (when there is a break >=5 days)\n",
    "    * churn = 1\n",
    "    * continuous = 0"
   ]
  },
  {
   "cell_type": "code",
   "execution_count": null,
   "metadata": {},
   "outputs": [],
   "source": [
    "# svl = pd.read_pickle('pkl/svl.pkl')\n",
    "# svl.head()"
   ]
  },
  {
   "cell_type": "code",
   "execution_count": 219,
   "metadata": {},
   "outputs": [
    {
     "name": "stdout",
     "output_type": "stream",
     "text": [
      "<lifelines.CoxPHFitter: fitted with 7912 observations, 2233 censored>\n",
      "      duration col = 'days'\n",
      "         event col = 'churn'\n",
      "number of subjects = 7912\n",
      "  number of events = 5679\n",
      "partial log-likelihood = -45673.48\n",
      "  time fit was run = 2019-07-09 06:40:09 UTC\n",
      "\n",
      "---\n",
      "                 coef exp(coef)  se(coef)      z      p  -log2(p)  lower 0.95  upper 0.95\n",
      "achievement     -0.04      0.96      0.00 -32.41 <0.005    763.20       -0.04       -0.03\n",
      "calories_10_pct -0.04      0.96      0.04  -1.01   0.31      1.67       -0.12        0.04\n",
      "carbs_10_pct     0.07      1.08      0.04   1.70   0.09      3.50       -0.01        0.16\n",
      "fat_10_pct       0.16      1.17      0.03   4.56 <0.005     17.55        0.09        0.22\n",
      "fiber_10_pct     0.12      1.13      0.09   1.27   0.20      2.29       -0.06        0.30\n",
      "protein_10_pct  -0.16      0.85      0.05  -3.01 <0.005      8.59       -0.26       -0.06\n",
      "sodium_10_pct    0.07      1.07      0.05   1.57   0.12      3.11       -0.02        0.16\n",
      "sugar_10_pct    -0.05      0.95      0.05  -1.15   0.25      2.00       -0.14        0.04\n",
      "---\n",
      "Concordance = 0.65\n",
      "Log-likelihood ratio test = 1655.61 on 8 df, -log2(p)=inf\n"
     ]
    }
   ],
   "source": [
    "from sklearn.model_selection import train_test_split\n",
    "from lifelines import CoxPHFitter\n",
    "\n",
    "cph_train, cph_test = train_test_split(svl, test_size=0.2)\n",
    "cph = CoxPHFitter().fit(cph_train, 'days', 'churn')\n",
    "cph.print_summary()"
   ]
  },
  {
   "cell_type": "markdown",
   "metadata": {},
   "source": [
    "### Results\n",
    "\n",
    "1. We get the coefficients of our model. These are very important and they tell us how each feature increases risk, so if it’s a positive number that attribute makes a customer more likely to churn, and if it is negative then customers with that feature are less likely to churn.\n",
    "\n",
    "\n",
    "2. concordance is an assessment of how internally consistent the model is – if it says a particular feature increases risk, the observations that have that feature should be more at risk. If they are the concordance goes up, if they’re not then it decreases."
   ]
  },
  {
   "cell_type": "markdown",
   "metadata": {},
   "source": [
    "## calories 10% has the worst p-value, hence drop."
   ]
  },
  {
   "cell_type": "code",
   "execution_count": 220,
   "metadata": {
    "scrolled": true
   },
   "outputs": [],
   "source": [
    "# cph_train.drop(['calories_10_pct'], axis=1, inplace=True)\n",
    "# cph = CoxPHFitter().fit(cph_train, 'days', 'churn')\n",
    "# cph.print_summary()"
   ]
  },
  {
   "cell_type": "code",
   "execution_count": 333,
   "metadata": {},
   "outputs": [
    {
     "data": {
      "text/plain": [
       "<matplotlib.axes._subplots.AxesSubplot at 0x1aa79b0be0>"
      ]
     },
     "execution_count": 333,
     "metadata": {},
     "output_type": "execute_result"
    },
    {
     "data": {
      "image/png": "[encoded data removed]",
      "text/plain": [
       "<Figure size 432x288 with 1 Axes>"
      ]
     },
     "metadata": {
      "needs_background": "light"
     },
     "output_type": "display_data"
    }
   ],
   "source": [
    "cph.plot()"
   ]
  },
  {
   "cell_type": "code",
   "execution_count": 222,
   "metadata": {},
   "outputs": [
    {
     "data": {
      "text/plain": [
       "Text(0.5, 1.0, 'Survival Analysis for Single Attribute')"
      ]
     },
     "execution_count": 222,
     "metadata": {},
     "output_type": "execute_result"
    },
    {
     "data": {
      "image/png": "[encoded data removed]",
      "text/plain": [
       "<Figure size 432x288 with 1 Axes>"
      ]
     },
     "metadata": {
      "needs_background": "light"
     },
     "output_type": "display_data"
    }
   ],
   "source": [
    "cph.plot_covariate_groups('sodium_10_pct', [0, 1], cmap='coolwarm')\n",
    "plt.xlabel('Time (days)')\n",
    "plt.ylabel('Risk (probability of churn)')\n",
    "plt.title('Survival Analysis for Single Attribute')"
   ]
  },
  {
   "cell_type": "code",
   "execution_count": 223,
   "metadata": {
    "scrolled": true
   },
   "outputs": [
    {
     "data": {
      "text/plain": [
       "Text(0.5, 1.0, 'Survival Analysis for Single Attribute')"
      ]
     },
     "execution_count": 223,
     "metadata": {},
     "output_type": "execute_result"
    },
    {
     "data": {
      "image/png": "[encoded data removed]",
      "text/plain": [
       "<Figure size 432x288 with 1 Axes>"
      ]
     },
     "metadata": {
      "needs_background": "light"
     },
     "output_type": "display_data"
    }
   ],
   "source": [
    "cph.plot_covariate_groups('protein_10_pct', [0, 1], cmap='coolwarm')\n",
    "plt.xlabel('Time (days)')\n",
    "plt.ylabel('Risk (probability of churn)')\n",
    "plt.title('Survival Analysis for Single Attribute')"
   ]
  },
  {
   "cell_type": "markdown",
   "metadata": {},
   "source": [
    "For example: At 25 days, there is a higher risk of churning based only on meeting protein goals. As a result, the company should provide some sort of marketing incentive for users to keep progressing at around the 25 day mark."
   ]
  },
  {
   "cell_type": "code",
   "execution_count": null,
   "metadata": {},
   "outputs": [],
   "source": [
    "censored_subjects = svl.loc[svl['churn_5days'] == 0]"
   ]
  },
  {
   "cell_type": "code",
   "execution_count": null,
   "metadata": {},
   "outputs": [],
   "source": [
    "unconditioned_sf = cph.predict_survival_function(censored_subjects)"
   ]
  },
  {
   "cell_type": "code",
   "execution_count": null,
   "metadata": {},
   "outputs": [],
   "source": [
    "conditioned_sf = unconditioned_sf.apply(lambda c: (c / c.loc[svl.loc[c.index, 'days']]).clip_upper(1))"
   ]
  },
  {
   "cell_type": "code",
   "execution_count": null,
   "metadata": {
    "scrolled": false
   },
   "outputs": [],
   "source": [
    "# cph = CoxPHFitter().fit(svl, duration_col='days', event_col='churn_5days')\n",
    "# cph.print_summary()"
   ]
  },
  {
   "cell_type": "code",
   "execution_count": null,
   "metadata": {
    "scrolled": true
   },
   "outputs": [],
   "source": [
    "# cph.plot()"
   ]
  }
 ],
 "metadata": {
  "kernelspec": {
   "display_name": "Python 3",
   "language": "python",
   "name": "python3"
  },
  "language_info": {
   "codemirror_mode": {
    "name": "ipython",
    "version": 3
   },
   "file_extension": ".py",
   "mimetype": "text/x-python",
   "name": "python",
   "nbconvert_exporter": "python",
   "pygments_lexer": "ipython3",
   "version": "3.7.1"
  }
 },
 "nbformat": 4,
 "nbformat_minor": 2
}
